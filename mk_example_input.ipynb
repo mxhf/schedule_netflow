{
 "cells": [
  {
   "cell_type": "code",
   "execution_count": 10,
   "metadata": {
    "collapsed": true
   },
   "outputs": [],
   "source": [
    "import numpy as np\n",
    "import ephem\n",
    "\n",
    "def sech(x):\n",
    "    return np.cosh(np.deg2rad(x))**(-1)\n",
    "\n",
    "def sin(x):\n",
    "    return np.sin(np.deg2rad(x))\n",
    "\n",
    "def airmass(alt):\n",
    "    X = 1./( sin(alt + 244./(165. + 47.*alt**1.1) ) )\n",
    "    return X\n",
    "\n",
    "def fobject(name, ra, dec, epoch = 2000.):\n",
    "    o = ephem.readdb(\"{},f|M|F7,{},{},2.02,{}\".format(name, ra,dec,epoch))\n",
    "    return o\n",
    "\n",
    "def compute_AM(obj, obs, start = '2018/3/21 05:00', end = '2018/3/21 13:00', timezone='US/Central', debug=False):\n",
    "    moon = ephem.Moon()\n",
    "    obs.date = start\n",
    "    t = []\n",
    "    while obs.date <= ephem.Date(end):\n",
    "        obs.date += ephem.minute * 5.\n",
    "        moon.compute(obs)\n",
    "        obj.compute(obs)\n",
    "        sep = ephem.separation((moon.az, moon.alt), (obj.az, obj.alt))\n",
    "        lt = ephem.localtime(obs.date).ctime()\n",
    "        X = airmass(np.rad2deg( obj.alt ))\n",
    "        t.append([obs.date.datetime(), np.rad2deg( obj.alt ), np.rad2deg( obj.az ), X, np.rad2deg( sep )])\n",
    "    return np.array(t)\n",
    "\n",
    "def compute_eff_AM(obj, obs, start = '2018/3/21 05:00', end = '2018/3/21 13:00'):\n",
    "    aa = compute_AM(obj, obs, start, end)\n",
    "    return np.mean( [a[3] for a in aa] )\n",
    "    \n",
    "def getSetAndRise(obsin, date, horizon= '-18.'):\n",
    "    sun = ephem.Sun()\n",
    "    obs = ephem.Observer()\n",
    "    obs.lon = obsin.lon\n",
    "    obs.lat = obsin.lat\n",
    "    obs.elevation = obsin.elevation\n",
    "    obs.date = date\n",
    "    obs.date = date\n",
    "    obs.pressure = 0\n",
    "    obs.horizon = horizon\n",
    "    r1 = obs.next_rising(ephem.Sun())\n",
    "    s1 = obs.previous_setting(ephem.Sun())\n",
    "    return  s1.datetime() ,  r1.datetime()\n",
    "       \n",
    "# this is Subaru\n",
    "obs =  ephem.Observer()                                                                                                                                   \n",
    "obs.name = \"Subaru\"\n",
    "obs.lon = str(\"-155.476667\")\n",
    "obs.lat = str(\"19.825556\")\n",
    "obs.elevation = 4139\n"
   ]
  },
  {
   "cell_type": "code",
   "execution_count": 11,
   "metadata": {
    "collapsed": true
   },
   "outputs": [],
   "source": [
    "from astropy.io import ascii\n",
    "\n",
    "targetfield_table = ascii.read(\\\n",
    "\"\"\"\n",
    "name,    ra,      dec,     cost\n",
    "Umi_A01, 228.200, +67.500, 200\n",
    "Umi_A02, 228.200, +67.500, 200\n",
    "Umi_A03, 228.200, +67.500, 200\n",
    "Umi_B01, 226.300, +67.500, 200\n",
    "Umi_B02, 226.300, +67.500, 200\n",
    "Umi_B03, 226.300, +67.500, 200\n",
    "Umi_C01, 226.000, +66.900, 200\n",
    "Umi_C02, 226.000, +66.900, 200\n",
    "Umi_C03, 226.000, +66.900, 200\n",
    "Umi_D01, 228.100, +66.955, 200\n",
    "Umi_D02, 228.100, +66.955, 200\n",
    "Umi_D03, 228.100, +66.955, 200\n",
    "GE_D00,  150.696720,     2.822468, 100\n",
    "GE_D01,  150.718438,     2.812009, 100\n",
    "GE_D02,  150.723801,     2.788509, 100\n",
    "GE_D03,  150.708772,     2.769663, 100\n",
    "GE_D04,  150.684668,     2.769663, 100\n",
    "GE_D05,  150.669639,     2.788509, 100\n",
    "GE_D06,  150.675002,     2.812009, 100\n",
    "GE_D07,  150.696720,     2.822468, 100\n",
    "\"\"\"\n",
    ")\n",
    "targetfield_table.write(\"targetfields.txt\", format=\"ascii.fixed_width\", overwrite=True)"
   ]
  },
  {
   "cell_type": "code",
   "execution_count": 17,
   "metadata": {},
   "outputs": [
    {
     "name": "stdout",
     "output_type": "stream",
     "text": [
      "(datetime.datetime(2021, 2, 9, 5, 34, 6, 54059), datetime.datetime(2021, 2, 10, 15, 37, 32, 120368))\n",
      "(datetime.datetime(2021, 2, 10, 5, 34, 31, 15194), datetime.datetime(2021, 2, 11, 15, 37, 7, 923205))\n"
     ]
    }
   ],
   "source": [
    "print( getSetAndRise(obs, \"2021/2/10\") )\n",
    "print( getSetAndRise(obs, \"2021/2/11\") )"
   ]
  },
  {
   "cell_type": "code",
   "execution_count": 18,
   "metadata": {
    "collapsed": true
   },
   "outputs": [],
   "source": [
    "# start of night  5:34 UT\n",
    "# start of night 15:37 UT\n",
    "observingslot_table = ascii.read(\\\n",
    "\"\"\"\n",
    "name,           start,             end\n",
    "20210201_0600, 2021/2/10 06:00:00, 2021/2/10 07:00:00 \n",
    "20210201_0700, 2021/2/10 07:00:00, 2021/2/10 08:00:00 \n",
    "20210201_0800, 2021/2/10 08:00:00, 2021/2/10 09:00:00 \n",
    "20210201_0900, 2021/2/10 09:00:00, 2021/2/10 10:00:00 \n",
    "20210201_1000, 2021/2/10 10:00:00, 2021/2/10 11:00:00 \n",
    "20210201_1100, 2021/2/10 11:00:00, 2021/2/10 12:00:00 \n",
    "20210201_1200, 2021/2/10 12:00:00, 2021/2/10 13:00:00 \n",
    "20210201_1300, 2021/2/10 13:00:00, 2021/2/10 14:00:00 \n",
    "20210201_1400, 2021/2/10 14:00:00, 2021/2/10 15:00:00\n",
    "20210210_0600, 2021/2/10 06:00:00, 2021/2/10 07:00:00\n",
    "20210210_0700, 2021/2/10 07:00:00, 2021/2/10 08:00:00\n",
    "20210210_0800, 2021/2/10 08:00:00, 2021/2/10 09:00:00\n",
    "20210210_0900, 2021/2/10 09:00:00, 2021/2/10 10:00:00\n",
    "20210210_1000, 2021/2/10 10:00:00, 2021/2/10 11:00:00\n",
    "20210210_1100, 2021/2/10 11:00:00, 2021/2/10 12:00:00\n",
    "20210210_1200, 2021/2/10 12:00:00, 2021/2/10 13:00:00\n",
    "20210210_1300, 2021/2/10 13:00:00, 2021/2/10 14:00:00\n",
    "20210210_1400, 2021/2/10 14:00:00, 2021/2/10 15:00:00\n",
    "20210211_0600, 2021/2/11 06:00:00, 2021/2/11 07:00:00 \n",
    "20210211_0700, 2021/2/11 07:00:00, 2021/2/11 08:00:00 \n",
    "20210211_0800, 2021/2/11 08:00:00, 2021/2/11 09:00:00 \n",
    "20210211_0900, 2021/2/11 09:00:00, 2021/2/11 10:00:00 \n",
    "20210211_1000, 2021/2/11 10:00:00, 2021/2/11 11:00:00 \n",
    "20210211_1100, 2021/2/11 11:00:00, 2021/2/11 12:00:00 \n",
    "20210211_1200, 2021/2/11 12:00:00, 2021/2/11 13:00:00 \n",
    "20210211_1300, 2021/2/11 13:00:00, 2021/2/11 14:00:00 \n",
    "20210211_1400, 2021/2/11 14:00:00, 2021/2/11 15:00:00\n",
    "\"\"\")\n",
    "observingslot_table.write(\"observingslot.txt\", format=\"ascii.fixed_width\", overwrite=True)"
   ]
  },
  {
   "cell_type": "code",
   "execution_count": 19,
   "metadata": {},
   "outputs": [
    {
     "name": "stderr",
     "output_type": "stream",
     "text": [
      "/Users/mxhf/.pyenv/versions/3.6.0/Python.framework/Versions/3.6/lib/python3.6/site-packages/ipykernel_launcher.py:11: RuntimeWarning: invalid value encountered in double_scalars\n",
      "  # This is added back by InteractiveShellApp.init_path()\n"
     ]
    }
   ],
   "source": [
    "from astropy.table import Table\n",
    "visibility_table = Table(names=[\"targetfield\", \"observingslot\", \"airmass\"], dtype=[\"U14\", \"U14\", float])\n",
    "\n",
    "for t in targetfield_table:\n",
    "    obj = fobject(t[\"name\"], t[\"ra\"], t[\"dec\"]) \n",
    "    for r in observingslot_table:\n",
    "        # get effective airmass over the observing block\n",
    "        eff_AM = compute_eff_AM(obj, obs, start=r[\"start\"], end=r[\"end\"])\n",
    "        if eff_AM < 2:\n",
    "               visibility_table.add_row([t[\"name\"], r[\"name\"], eff_AM])"
   ]
  },
  {
   "cell_type": "code",
   "execution_count": 20,
   "metadata": {
    "collapsed": true
   },
   "outputs": [],
   "source": [
    "visibility_table.write(\"visibilities.txt\", format=\"ascii.fixed_width\", overwrite=True)"
   ]
  },
  {
   "cell_type": "code",
   "execution_count": null,
   "metadata": {
    "collapsed": true
   },
   "outputs": [],
   "source": []
  }
 ],
 "metadata": {
  "kernelspec": {
   "display_name": "Python 3",
   "language": "python",
   "name": "python3"
  },
  "language_info": {
   "codemirror_mode": {
    "name": "ipython",
    "version": 3
   },
   "file_extension": ".py",
   "mimetype": "text/x-python",
   "name": "python",
   "nbconvert_exporter": "python",
   "pygments_lexer": "ipython3",
   "version": "3.6.0"
  }
 },
 "nbformat": 4,
 "nbformat_minor": 2
}
